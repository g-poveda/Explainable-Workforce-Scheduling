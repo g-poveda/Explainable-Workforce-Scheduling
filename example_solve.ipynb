{
 "cells": [
  {
   "cell_type": "code",
   "execution_count": 1,
   "metadata": {},
   "outputs": [],
   "source": [
    "%load_ext autoreload\n",
    "%autoreload 2"
   ]
  },
  {
   "cell_type": "markdown",
   "metadata": {},
   "source": [
    "# Allocating and Scheduling tasks to workers\n",
    "\n",
    "In our problem setting, logistical tasks are interleaved with production activities on assembly line, and need to be aligned with timings of higher-level logistics involving deliveries of raw materials or components provided by external parties via trucks, ships, or cargo aircraft. \n",
    "These components then have to be transported to internal hangars at the right time, where they will be assembled with other aircraft parts.\n",
    "We incorporate these operational requirements into the allocation and scheduling problem as part of the input data. \n",
    "More specifically, each task has a predefined release time, duration, and deadline, and certain tasks follow precedence constraints, such as when two parts must be delivered in sequence before assembly.\n",
    "\n",
    "Given these constraints, we aim to find a feasible allocation of the worker-teams to tasks, such that 1) the total number of working teams is minimized and 2) the workload is balanced fairly among the working teams.\n",
    "More specifically, we aim to minimize the __dispersion__ of working-time, which is formalized as $\\max_{w \\in \\mathcal{W}}(\\mathit{time\\_worked}_w) - \\min_{w \\in \\mathcal{W}}(\\mathit{time\\_worked}_w)$ with $\\mathcal{W}$ a set of worker-teams."
   ]
  },
  {
   "cell_type": "markdown",
   "metadata": {},
   "source": [
    "## Pure allocation\n",
    "\n",
    "We first model the pure-allocation version of this problem, where all tasks are fixed in time."
   ]
  },
  {
   "cell_type": "code",
   "execution_count": 2,
   "metadata": {},
   "outputs": [],
   "source": [
    "import cpmpy as cp\n",
    "from models import AllocationModel\n",
    "from utils import read_instance"
   ]
  },
  {
   "cell_type": "code",
   "execution_count": 3,
   "metadata": {
    "scrolled": false
   },
   "outputs": [
    {
     "data": {
      "text/html": [
       "<div>\n",
       "<style scoped>\n",
       "    .dataframe tbody tr th:only-of-type {\n",
       "        vertical-align: middle;\n",
       "    }\n",
       "\n",
       "    .dataframe tbody tr th {\n",
       "        vertical-align: top;\n",
       "    }\n",
       "\n",
       "    .dataframe thead th {\n",
       "        text-align: right;\n",
       "    }\n",
       "</style>\n",
       "<table border=\"1\" class=\"dataframe\">\n",
       "  <thead>\n",
       "    <tr style=\"text-align: right;\">\n",
       "      <th></th>\n",
       "      <th>task_id</th>\n",
       "      <th>duration</th>\n",
       "      <th>team_ids</th>\n",
       "      <th>original_start</th>\n",
       "      <th>original_end</th>\n",
       "      <th>release_date</th>\n",
       "      <th>due_date</th>\n",
       "      <th>successors</th>\n",
       "    </tr>\n",
       "  </thead>\n",
       "  <tbody>\n",
       "    <tr>\n",
       "      <th>0</th>\n",
       "      <td>99549</td>\n",
       "      <td>30</td>\n",
       "      <td>{32fbb, bf019, 86287, 71de6, fb668, f59f9, 619...</td>\n",
       "      <td>0.0</td>\n",
       "      <td>30.0</td>\n",
       "      <td>0.0</td>\n",
       "      <td>60.0</td>\n",
       "      <td>{}</td>\n",
       "    </tr>\n",
       "    <tr>\n",
       "      <th>1</th>\n",
       "      <td>15760</td>\n",
       "      <td>15</td>\n",
       "      <td>{32fbb, bf019, 86287, 71de6, fb668, f59f9, 619...</td>\n",
       "      <td>16.0</td>\n",
       "      <td>31.0</td>\n",
       "      <td>0.0</td>\n",
       "      <td>61.0</td>\n",
       "      <td>{}</td>\n",
       "    </tr>\n",
       "    <tr>\n",
       "      <th>2</th>\n",
       "      <td>37628</td>\n",
       "      <td>30</td>\n",
       "      <td>{32fbb, bf019, 86287, 71de6, fb668, f59f9, 619...</td>\n",
       "      <td>19.0</td>\n",
       "      <td>49.0</td>\n",
       "      <td>0.0</td>\n",
       "      <td>79.0</td>\n",
       "      <td>{50284}</td>\n",
       "    </tr>\n",
       "    <tr>\n",
       "      <th>3</th>\n",
       "      <td>89518</td>\n",
       "      <td>15</td>\n",
       "      <td>{32fbb, bf019, 86287, 71de6, fb668, f59f9, 619...</td>\n",
       "      <td>37.0</td>\n",
       "      <td>52.0</td>\n",
       "      <td>7.0</td>\n",
       "      <td>82.0</td>\n",
       "      <td>{81613}</td>\n",
       "    </tr>\n",
       "    <tr>\n",
       "      <th>4</th>\n",
       "      <td>61595</td>\n",
       "      <td>45</td>\n",
       "      <td>{32fbb, bf019, 86287, 71de6, fb668, f59f9, 619...</td>\n",
       "      <td>14.0</td>\n",
       "      <td>59.0</td>\n",
       "      <td>0.0</td>\n",
       "      <td>89.0</td>\n",
       "      <td>{}</td>\n",
       "    </tr>\n",
       "    <tr>\n",
       "      <th>...</th>\n",
       "      <td>...</td>\n",
       "      <td>...</td>\n",
       "      <td>...</td>\n",
       "      <td>...</td>\n",
       "      <td>...</td>\n",
       "      <td>...</td>\n",
       "      <td>...</td>\n",
       "      <td>...</td>\n",
       "    </tr>\n",
       "    <tr>\n",
       "      <th>78</th>\n",
       "      <td>70248</td>\n",
       "      <td>15</td>\n",
       "      <td>{32fbb, bf019, 86287, 71de6, fb668, f59f9, 619...</td>\n",
       "      <td>419.0</td>\n",
       "      <td>434.0</td>\n",
       "      <td>389.0</td>\n",
       "      <td>464.0</td>\n",
       "      <td>{}</td>\n",
       "    </tr>\n",
       "    <tr>\n",
       "      <th>79</th>\n",
       "      <td>19791</td>\n",
       "      <td>15</td>\n",
       "      <td>{32fbb, bf019, 86287, 71de6, fb668, f59f9, 619...</td>\n",
       "      <td>424.0</td>\n",
       "      <td>439.0</td>\n",
       "      <td>394.0</td>\n",
       "      <td>469.0</td>\n",
       "      <td>{}</td>\n",
       "    </tr>\n",
       "    <tr>\n",
       "      <th>80</th>\n",
       "      <td>10200</td>\n",
       "      <td>30</td>\n",
       "      <td>{32fbb, bf019, 86287, 71de6, fb668, f59f9, 619...</td>\n",
       "      <td>427.0</td>\n",
       "      <td>457.0</td>\n",
       "      <td>397.0</td>\n",
       "      <td>487.0</td>\n",
       "      <td>{}</td>\n",
       "    </tr>\n",
       "    <tr>\n",
       "      <th>81</th>\n",
       "      <td>39485</td>\n",
       "      <td>45</td>\n",
       "      <td>{32fbb, bf019, 86287, 71de6, fb668, f59f9, 619...</td>\n",
       "      <td>415.0</td>\n",
       "      <td>460.0</td>\n",
       "      <td>385.0</td>\n",
       "      <td>490.0</td>\n",
       "      <td>{}</td>\n",
       "    </tr>\n",
       "    <tr>\n",
       "      <th>82</th>\n",
       "      <td>64883</td>\n",
       "      <td>15</td>\n",
       "      <td>{32fbb, bf019, 86287, 71de6, fb668, f59f9, 619...</td>\n",
       "      <td>449.0</td>\n",
       "      <td>464.0</td>\n",
       "      <td>419.0</td>\n",
       "      <td>494.0</td>\n",
       "      <td>{}</td>\n",
       "    </tr>\n",
       "  </tbody>\n",
       "</table>\n",
       "<p>83 rows × 8 columns</p>\n",
       "</div>"
      ],
      "text/plain": [
       "   task_id  duration                                           team_ids  \\\n",
       "0    99549        30  {32fbb, bf019, 86287, 71de6, fb668, f59f9, 619...   \n",
       "1    15760        15  {32fbb, bf019, 86287, 71de6, fb668, f59f9, 619...   \n",
       "2    37628        30  {32fbb, bf019, 86287, 71de6, fb668, f59f9, 619...   \n",
       "3    89518        15  {32fbb, bf019, 86287, 71de6, fb668, f59f9, 619...   \n",
       "4    61595        45  {32fbb, bf019, 86287, 71de6, fb668, f59f9, 619...   \n",
       "..     ...       ...                                                ...   \n",
       "78   70248        15  {32fbb, bf019, 86287, 71de6, fb668, f59f9, 619...   \n",
       "79   19791        15  {32fbb, bf019, 86287, 71de6, fb668, f59f9, 619...   \n",
       "80   10200        30  {32fbb, bf019, 86287, 71de6, fb668, f59f9, 619...   \n",
       "81   39485        45  {32fbb, bf019, 86287, 71de6, fb668, f59f9, 619...   \n",
       "82   64883        15  {32fbb, bf019, 86287, 71de6, fb668, f59f9, 619...   \n",
       "\n",
       "    original_start  original_end  release_date  due_date successors  \n",
       "0              0.0          30.0           0.0      60.0         {}  \n",
       "1             16.0          31.0           0.0      61.0         {}  \n",
       "2             19.0          49.0           0.0      79.0    {50284}  \n",
       "3             37.0          52.0           7.0      82.0    {81613}  \n",
       "4             14.0          59.0           0.0      89.0         {}  \n",
       "..             ...           ...           ...       ...        ...  \n",
       "78           419.0         434.0         389.0     464.0         {}  \n",
       "79           424.0         439.0         394.0     469.0         {}  \n",
       "80           427.0         457.0         397.0     487.0         {}  \n",
       "81           415.0         460.0         385.0     490.0         {}  \n",
       "82           449.0         464.0         419.0     494.0         {}  \n",
       "\n",
       "[83 rows x 8 columns]"
      ]
     },
     "metadata": {},
     "output_type": "display_data"
    }
   ],
   "source": [
    "instance = f\"data/anon_jsons/instance_96.json\"\n",
    "tasks, calendars, same_allocation = read_instance(instance)\n",
    "\n",
    "display(tasks)"
   ]
  },
  {
   "cell_type": "code",
   "execution_count": 4,
   "metadata": {},
   "outputs": [
    {
     "name": "stdout",
     "output_type": "stream",
     "text": [
      "Found solution with 7 teams\n"
     ]
    }
   ],
   "source": [
    "model = AllocationModel(tasks, calendars, same_allocation)\n",
    "model.minimize(model.get_nb_teams_objective())\n",
    "\n",
    "model.solve()\n",
    "\n",
    "print(f\"Found solution with {model.objective_value()} teams\")"
   ]
  },
  {
   "cell_type": "code",
   "execution_count": 5,
   "metadata": {},
   "outputs": [
    {
     "data": {
      "text/plain": [
       "(<Figure size 1000x600 with 1 Axes>,\n",
       " <Axes: title={'center': 'Solution to the allocation problem'}, xlabel='Time in minutes', ylabel='Team'>)"
      ]
     },
     "execution_count": 5,
     "metadata": {},
     "output_type": "execute_result"
    },
    {
     "data": {
      "image/png": "[encoded data removed]",
      "text/plain": [
       "<Figure size 1000x600 with 1 Axes>"
      ]
     },
     "metadata": {},
     "output_type": "display_data"
    }
   ],
   "source": [
    "model.visualize_solution()"
   ]
  },
  {
   "cell_type": "markdown",
   "metadata": {},
   "source": [
    "### Generating a _fair_ schedule\n",
    "\n",
    "The above solution provides an allocation of tasks to worker-teams, while minimizing the number of teams required.\n",
    "However, the schedule is not __balanced__, as some teams have to work much more compared to others."
   ]
  },
  {
   "cell_type": "code",
   "execution_count": 6,
   "metadata": {},
   "outputs": [
    {
     "data": {
      "text/html": [
       "<div>\n",
       "<style scoped>\n",
       "    .dataframe tbody tr th:only-of-type {\n",
       "        vertical-align: middle;\n",
       "    }\n",
       "\n",
       "    .dataframe tbody tr th {\n",
       "        vertical-align: top;\n",
       "    }\n",
       "\n",
       "    .dataframe thead th {\n",
       "        text-align: right;\n",
       "    }\n",
       "</style>\n",
       "<table border=\"1\" class=\"dataframe\">\n",
       "  <thead>\n",
       "    <tr style=\"text-align: right;\">\n",
       "      <th></th>\n",
       "      <th>duration</th>\n",
       "    </tr>\n",
       "    <tr>\n",
       "      <th>assigned_team</th>\n",
       "      <th></th>\n",
       "    </tr>\n",
       "  </thead>\n",
       "  <tbody>\n",
       "    <tr>\n",
       "      <th>179c6</th>\n",
       "      <td>375.0</td>\n",
       "    </tr>\n",
       "    <tr>\n",
       "      <th>71de6</th>\n",
       "      <td>375.0</td>\n",
       "    </tr>\n",
       "    <tr>\n",
       "      <th>80cae</th>\n",
       "      <td>343.0</td>\n",
       "    </tr>\n",
       "    <tr>\n",
       "      <th>86287</th>\n",
       "      <td>360.0</td>\n",
       "    </tr>\n",
       "    <tr>\n",
       "      <th>8cea9</th>\n",
       "      <td>390.0</td>\n",
       "    </tr>\n",
       "    <tr>\n",
       "      <th>f59f9</th>\n",
       "      <td>285.0</td>\n",
       "    </tr>\n",
       "    <tr>\n",
       "      <th>fb668</th>\n",
       "      <td>285.0</td>\n",
       "    </tr>\n",
       "  </tbody>\n",
       "</table>\n",
       "</div>"
      ],
      "text/plain": [
       "               duration\n",
       "assigned_team          \n",
       "179c6             375.0\n",
       "71de6             375.0\n",
       "80cae             343.0\n",
       "86287             360.0\n",
       "8cea9             390.0\n",
       "f59f9             285.0\n",
       "fb668             285.0"
      ]
     },
     "metadata": {},
     "output_type": "display_data"
    },
    {
     "data": {
      "text/html": [
       "<div>\n",
       "<style scoped>\n",
       "    .dataframe tbody tr th:only-of-type {\n",
       "        vertical-align: middle;\n",
       "    }\n",
       "\n",
       "    .dataframe tbody tr th {\n",
       "        vertical-align: top;\n",
       "    }\n",
       "\n",
       "    .dataframe thead th {\n",
       "        text-align: right;\n",
       "    }\n",
       "</style>\n",
       "<table border=\"1\" class=\"dataframe\">\n",
       "  <thead>\n",
       "    <tr style=\"text-align: right;\">\n",
       "      <th></th>\n",
       "      <th>duration</th>\n",
       "    </tr>\n",
       "  </thead>\n",
       "  <tbody>\n",
       "    <tr>\n",
       "      <th>count</th>\n",
       "      <td>7.000000</td>\n",
       "    </tr>\n",
       "    <tr>\n",
       "      <th>mean</th>\n",
       "      <td>344.714286</td>\n",
       "    </tr>\n",
       "    <tr>\n",
       "      <th>std</th>\n",
       "      <td>43.307868</td>\n",
       "    </tr>\n",
       "    <tr>\n",
       "      <th>min</th>\n",
       "      <td>285.000000</td>\n",
       "    </tr>\n",
       "    <tr>\n",
       "      <th>25%</th>\n",
       "      <td>314.000000</td>\n",
       "    </tr>\n",
       "    <tr>\n",
       "      <th>50%</th>\n",
       "      <td>360.000000</td>\n",
       "    </tr>\n",
       "    <tr>\n",
       "      <th>75%</th>\n",
       "      <td>375.000000</td>\n",
       "    </tr>\n",
       "    <tr>\n",
       "      <th>max</th>\n",
       "      <td>390.000000</td>\n",
       "    </tr>\n",
       "  </tbody>\n",
       "</table>\n",
       "</div>"
      ],
      "text/plain": [
       "         duration\n",
       "count    7.000000\n",
       "mean   344.714286\n",
       "std     43.307868\n",
       "min    285.000000\n",
       "25%    314.000000\n",
       "50%    360.000000\n",
       "75%    375.000000\n",
       "max    390.000000"
      ]
     },
     "execution_count": 6,
     "metadata": {},
     "output_type": "execute_result"
    }
   ],
   "source": [
    "sol = model.get_solution()\n",
    "sol['duration'] = sol['end'] - sol['start']\n",
    "\n",
    "working_time = sol.groupby(\"assigned_team\")[['duration']].sum()\n",
    "display(working_time)\n",
    "working_time.describe()"
   ]
  },
  {
   "cell_type": "markdown",
   "metadata": {},
   "source": [
    "Therefore, as a seconday objective, we also optimize the __time dispersion__ objective, which minimizes the maximum difference in time-worked between the teams.\n",
    "\n",
    "Note that finding __optimal__ solutions to this objective is extremely hard, and solvers often get stuck in proving optimality of the solution.\n",
    "Therefore, we here limit the solving-time to 5s"
   ]
  },
  {
   "cell_type": "code",
   "execution_count": 7,
   "metadata": {},
   "outputs": [
    {
     "name": "stdout",
     "output_type": "stream",
     "text": [
      "Objective value: 7\n",
      "Objective value: 2\n"
     ]
    },
    {
     "data": {
      "image/png": "[encoded data removed]",
      "text/plain": [
       "<Figure size 1000x600 with 1 Axes>"
      ]
     },
     "metadata": {},
     "output_type": "display_data"
    }
   ],
   "source": [
    "model.set_lexico_objectives([\n",
    "    model.get_nb_teams_objective(),\n",
    "    model.get_dispersion_objective()\n",
    "])\n",
    "\n",
    "model.solve(time_limit=5)\n",
    "fig, ax = model.visualize_solution()\n",
    "_ = ax.set_title(ax.get_title() + f\", dispersion = {model.get_dispersion_value()}min\")"
   ]
  },
  {
   "cell_type": "markdown",
   "metadata": {},
   "source": [
    "## Scheduling and allocation"
   ]
  },
  {
   "cell_type": "markdown",
   "metadata": {},
   "source": [
    "The above solution was found using the __fixed__ start and end-times for the tasks, as assigned by the human planners.\n",
    "\n",
    "However, as you can notice, some gaps still occur in the schedule, and thus working teams will be idle.\n",
    "By allowing the solver to re-schedule the tasks, we can further compactify this schedule, and potentially furhter minimize the number of teams required for working."
   ]
  },
  {
   "cell_type": "code",
   "execution_count": 8,
   "metadata": {},
   "outputs": [],
   "source": [
    "from models import SchedulingModel"
   ]
  },
  {
   "cell_type": "code",
   "execution_count": 9,
   "metadata": {},
   "outputs": [
    {
     "name": "stdout",
     "output_type": "stream",
     "text": [
      "Found solution with 6 teams\n",
      "ExitStatus.FEASIBLE (5.013965000000001 seconds)\n"
     ]
    }
   ],
   "source": [
    "model = SchedulingModel(tasks, calendars, same_allocation)\n",
    "model.minimize(model.get_nb_teams_objective())\n",
    "\n",
    "model.solve(time_limit=5)\n",
    "print(\"Found solution with\", model.objective_value(), \"teams\")\n",
    "print(model.status())"
   ]
  },
  {
   "cell_type": "markdown",
   "metadata": {},
   "source": [
    "Clearly, this scheduling-variant of the problem is much harder compared to the pure-allocation setting, and the solver was unable to find an optimal solution in terms of number of teams required for the schedule.\n",
    "\n",
    "However, by computing a lower-bound on the number of teams required, we can help the solver in proving optimality of the solution.\n",
    "We do this by considering all teams equivalent, and minimizing the capacity in the following model:\n",
    "\n",
    "```python\n",
    "cp.Cumulative(starts, durations, ends, [1]*len(starts), capacity)\n",
    "```\n",
    "\n",
    "Here, the set of teams is modeled as a `Cumulative` resource where the capacity of the the resource corresponds to the number of working teams."
   ]
  },
  {
   "cell_type": "code",
   "execution_count": 10,
   "metadata": {},
   "outputs": [
    {
     "name": "stdout",
     "output_type": "stream",
     "text": [
      "Found lower bound  6\n"
     ]
    }
   ],
   "source": [
    "lb = model.get_lower_bound(add_to_model=True)\n",
    "print(\"Found lower bound \", lb)"
   ]
  },
  {
   "cell_type": "code",
   "execution_count": 11,
   "metadata": {},
   "outputs": [
    {
     "name": "stdout",
     "output_type": "stream",
     "text": [
      "Objective value: 6\n",
      "Objective value: 15\n"
     ]
    },
    {
     "data": {
      "text/plain": [
       "[ExitStatus.OPTIMAL (0.49336100000000005 seconds),\n",
       " ExitStatus.FEASIBLE (5.0168420000000005 seconds)]"
      ]
     },
     "execution_count": 11,
     "metadata": {},
     "output_type": "execute_result"
    }
   ],
   "source": [
    "model.set_lexico_objectives([\n",
    "    model.get_nb_teams_objective(),\n",
    "    model.get_dispersion_objective()\n",
    "])   \n",
    "\n",
    "model.solve(time_limit=5)\n",
    "model.solver_stati"
   ]
  },
  {
   "cell_type": "code",
   "execution_count": 12,
   "metadata": {},
   "outputs": [
    {
     "data": {
      "image/png": "[encoded data removed]",
      "text/plain": [
       "<Figure size 1000x600 with 1 Axes>"
      ]
     },
     "metadata": {},
     "output_type": "display_data"
    }
   ],
   "source": [
    "fig, ax = model.visualize_solution()"
   ]
  }
 ],
 "metadata": {
  "kernelspec": {
   "display_name": "Python 3 (ipykernel)",
   "language": "python",
   "name": "python3"
  },
  "language_info": {
   "codemirror_mode": {
    "name": "ipython",
    "version": 3
   },
   "file_extension": ".py",
   "mimetype": "text/x-python",
   "name": "python",
   "nbconvert_exporter": "python",
   "pygments_lexer": "ipython3",
   "version": "3.10.14"
  }
 },
 "nbformat": 4,
 "nbformat_minor": 2
}
